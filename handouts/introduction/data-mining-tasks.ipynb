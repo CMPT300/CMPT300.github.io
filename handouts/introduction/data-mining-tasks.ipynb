{
 "cells": [
  {
   "cell_type": "markdown",
   "metadata": {},
   "source": [
    "# Discuss whether or not each of the following activities is a data mining task.\n",
    "## 1. Dividing the customers of a company according to their gender. \n",
    "\n",
    "## 2. Dividing the customers of a company according to their prof- itability.\n",
    "\n",
    "## 3. Computing the total sales of a company. \n",
    "\n",
    "## 4. Sorting a student database based on student identification numbers.\n",
    "\n",
    "## 5. Predicting the outcomes of tossing a (fair) pair of dice.\n",
    "\n",
    "## 6. Predicting the future stock price of a company using historical records.\n",
    "\n",
    "## 7. Monitoring the heart rate of a patient for abnormalities.\n",
    "\n",
    "## 8. Monitoring seismic waves for earthquake activities.\n",
    "\n",
    "## 9. Extracting the frequencies of a sound wave. "
   ]
  },
  {
   "cell_type": "code",
   "execution_count": null,
   "metadata": {
    "collapsed": true
   },
   "outputs": [],
   "source": []
  }
 ],
 "metadata": {
  "kernelspec": {
   "display_name": "Python 2",
   "language": "python",
   "name": "python2"
  },
  "language_info": {
   "codemirror_mode": {
    "name": "ipython",
    "version": 2
   },
   "file_extension": ".py",
   "mimetype": "text/x-python",
   "name": "python",
   "nbconvert_exporter": "python",
   "pygments_lexer": "ipython2",
   "version": "2.7.13"
  }
 },
 "nbformat": 4,
 "nbformat_minor": 2
}
