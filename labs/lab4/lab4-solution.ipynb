{
 "cells": [
  {
   "cell_type": "markdown",
   "metadata": {},
   "source": [
    "# Question 3\n",
    "## Find the best feature using mutual information.\n",
    "### Please only use functions in math and numpy."
   ]
  },
  {
   "cell_type": "code",
   "execution_count": 1,
   "metadata": {
    "scrolled": true
   },
   "outputs": [
    {
     "name": "stdout",
     "output_type": "stream",
     "text": [
      "The mutual information between this feature and target is 0.69314718056\n"
     ]
    }
   ],
   "source": [
    "import math\n",
    "import numpy as np\n",
    "\n",
    "def count(a):\n",
    "    return len(set(a))\n",
    "\n",
    "feature=np.array([30,24,28,24,20,10,20,10])\n",
    "target=[1,1,1,1,-1,-1,-1,-1]\n",
    "\n",
    "# How many unique features? How many unique targets? \n",
    "m=count(feature)\n",
    "n=count(target)\n",
    "total=float(len(target))\n",
    "\n",
    "feature_set=list(set(feature))\n",
    "target_set=list(set(target))\n",
    "\n",
    "# Build up a two-dimension table to store the probability of each pair.\n",
    "p=np.zeros((m,n))\n",
    "table=zip(feature,target)\n",
    "for i in range(m):\n",
    "    for j in range(n):\n",
    "        p[i][j]=table.count((feature_set[i],target_set[j]))/total\n",
    "\n",
    "# Calculate mutual information using the formula.\n",
    "# Discard 0 probability.\n",
    "info=0\n",
    "for i in range(m):\n",
    "    for j in range(n):\n",
    "        if p[i,j]>0.000001:\n",
    "            info += p[i,j]*(math.log(p[i,j])-math.log(sum(p[i,:]))-math.log(sum(p[:,j])))\n",
    "\n",
    "print \"The mutual information between this feature and target is\", info"
   ]
  },
  {
   "cell_type": "markdown",
   "metadata": {},
   "source": [
    "# Question 4\n",
    "## Please use a library function to calculate mutual information directly."
   ]
  },
  {
   "cell_type": "code",
   "execution_count": 2,
   "metadata": {},
   "outputs": [
    {
     "name": "stdout",
     "output_type": "stream",
     "text": [
      "0.69314718056\n"
     ]
    }
   ],
   "source": [
    "from sklearn import metrics\n",
    "\n",
    "feature=np.array([30,24,28,24,20,10,20,10])\n",
    "target=[1,1,1,1,-1,-1,-1,-1]\n",
    "print metrics.mutual_info_score(feature, target) "
   ]
  }
 ],
 "metadata": {
  "kernelspec": {
   "display_name": "Python 2",
   "language": "python",
   "name": "python2"
  },
  "language_info": {
   "codemirror_mode": {
    "name": "ipython",
    "version": 2
   },
   "file_extension": ".py",
   "mimetype": "text/x-python",
   "name": "python",
   "nbconvert_exporter": "python",
   "pygments_lexer": "ipython2",
   "version": "2.7.13"
  }
 },
 "nbformat": 4,
 "nbformat_minor": 2
}
