{
 "cells": [
  {
   "cell_type": "markdown",
   "metadata": {},
   "source": [
    "# Please select a partner on your own and sign up [here](https://docs.google.com/spreadsheets/d/1XGmHu51l7mYXGrEIbxZ5kZeyxGoqVwEcBKnQQVf3A00/edit?usp=sharing)\n",
    "\n",
    "***\n"
   ]
  },
  {
   "cell_type": "markdown",
   "metadata": {},
   "source": [
    "### Your name:\n",
    "\n",
    "### Your partner's name:\n",
    "\n",
    "#### Each individual student will be required to report individual logs for each assignment, describing:\n",
    "\n",
    "* time spent driving, observing, and working alone.\n",
    "\n",
    "Your answer:\n",
    "\n",
    "* confidence in solution.\n",
    "\n",
    "Your answer:\n",
    "\n",
    "* satisfaction with the experience.\n",
    "\n",
    "Your answer:\n",
    "\n",
    "#### Any comments or suggestions for this lab?\n",
    "\n",
    "Your answer:"
   ]
  },
  {
   "cell_type": "markdown",
   "metadata": {},
   "source": [
    "***\n"
   ]
  },
  {
   "cell_type": "markdown",
   "metadata": {},
   "source": [
    "# Question1\n",
    "## Find the best feature using S2N."
   ]
  },
  {
   "cell_type": "code",
   "execution_count": 1,
   "metadata": {},
   "outputs": [
    {
     "name": "stdout",
     "output_type": "stream",
     "text": [
      "The best feature is None\n"
     ]
    }
   ],
   "source": [
    "import math\n",
    "import numpy as np\n",
    "\n",
    "def my_mean(p):\n",
    "    pass\n",
    "\n",
    "def my_std(p):\n",
    "    pass\n",
    "\n",
    "def S2N(feature, target):\n",
    "    pass\n",
    "  \n",
    "def feature_selection_s2n(feature_matrix, target):\n",
    "    pass\n",
    "    \n",
    "feature_matrix=[[30,24,28,34,20,10,20,16,4,5,9,2],[30,25,2,3,20,11,20,19,4,50,9,2]]\n",
    "target=[0,1,1,1,1,1,0,0,0,1,0,0]\n",
    "print \"The best feature is\", feature_selection_s2n(feature_matrix, target)\n"
   ]
  },
  {
   "cell_type": "markdown",
   "metadata": {},
   "source": [
    "# Question 2\n",
    "## Find the best feature using CorrCoef"
   ]
  },
  {
   "cell_type": "code",
   "execution_count": 2,
   "metadata": {},
   "outputs": [
    {
     "name": "stdout",
     "output_type": "stream",
     "text": [
      "The best feature is None\n"
     ]
    }
   ],
   "source": [
    "\n",
    "def feature_selection_corr(feature_matrix, target):\n",
    "    pass\n",
    "    \n",
    "    \n",
    "# In this example, there three features in feature_matrix.\n",
    "feature_matrix=[[30,24,28,34,20],[10,20,16,4,5],[9,2,0,1,3]]\n",
    "target=[1,1,1,-1,-1]\n",
    "print \"The best feature is\", feature_selection_corr(feature_matrix, target)"
   ]
  },
  {
   "cell_type": "markdown",
   "metadata": {},
   "source": [
    "# Numpy Practice\n",
    "# Please learn numpy from this [quick start]( https://docs.scipy.org/doc/numpy-dev/user/quickstart.html)"
   ]
  },
  {
   "cell_type": "code",
   "execution_count": 10,
   "metadata": {
    "collapsed": true
   },
   "outputs": [],
   "source": [
    "# Convert list to numpy array using np.array()\n",
    "list1=[1,2,3,4]\n",
    "list2=[[1,2,3,0],[4,5,6,9]]\n",
    "nparray1= ???\n",
    "nparray2= ???\n",
    "print nparray1\n",
    "print nparray2"
   ]
  },
  {
   "cell_type": "code",
   "execution_count": null,
   "metadata": {
    "collapsed": true
   },
   "outputs": [],
   "source": [
    "# print the size and dimension of one nparray using .shape and .ndim\n",
    "print \"The size of nparray1 is\", ???\n",
    "print \"The dimension of nparray1 is\", ??? \n",
    "print \"The size of nparray2 is\", ???\n",
    "print \"The dimension of nparray2 is\", ???"
   ]
  },
  {
   "cell_type": "code",
   "execution_count": null,
   "metadata": {
    "collapsed": true
   },
   "outputs": [],
   "source": [
    "# Multiply each element of nparray1 by 3\n",
    "???\n",
    "\n",
    "# Add each element of nparray2 by 2\n",
    "???\n",
    "\n",
    "print nparray1\n",
    "print nparray2"
   ]
  },
  {
   "cell_type": "code",
   "execution_count": null,
   "metadata": {
    "collapsed": true
   },
   "outputs": [],
   "source": [
    "# Reshape nparray1 from one-dimension (4,) to two-dimension (4,1) using .reshape((row,column))\n",
    "???\n",
    "\n",
    "# Reshape nparray2 from shape (2,4) to two-dimension (4,2) \n",
    "???\n",
    "\n",
    "print nparray1\n",
    "print nparray2"
   ]
  },
  {
   "cell_type": "code",
   "execution_count": null,
   "metadata": {
    "collapsed": true
   },
   "outputs": [],
   "source": [
    "# Create a new matrix in 2 rows and 4 columns. Initialize all elements as one or zero.\n",
    "# Use np.ones and np.zeros()\n",
    "nparray_one = ???\n",
    "nparray_zero = ???\n",
    "\n",
    "print nparray_one\n",
    "print nparray_zero"
   ]
  },
  {
   "cell_type": "code",
   "execution_count": null,
   "metadata": {
    "collapsed": true
   },
   "outputs": [],
   "source": [
    "# Print the element at second row and thrid column of nparray2\n",
    "print ???\n",
    "\n",
    "# Calculate sum of first column of nparray2\n",
    "print ???\n",
    "\n",
    "# Calculate sum of second row of nparray2\n",
    "print ???"
   ]
  },
  {
   "cell_type": "markdown",
   "metadata": {},
   "source": [
    "# Python Review"
   ]
  },
  {
   "cell_type": "code",
   "execution_count": null,
   "metadata": {
    "collapsed": true
   },
   "outputs": [],
   "source": [
    "# How many unique elements are there in a list?\n",
    "lista = [1,2,3,4,4,3,5]\n",
    "print \"There are\", ??? , \"unique elements in lista.\"\n",
    "\n",
    "# Collect all unique elements in lista and store them in a new list.\n",
    "print ???\n",
    "\n",
    "# Learn zip() from https://medium.com/@happymishra66/zip-in-python-48cb4f70d013\n",
    "# example:\n",
    "print zip(lista,lista)"
   ]
  },
  {
   "cell_type": "markdown",
   "metadata": {},
   "source": [
    "# Question 3\n",
    "## Find the best feature using mutual information.\n",
    "### Please only use functions in math and numpy."
   ]
  },
  {
   "cell_type": "code",
   "execution_count": 2,
   "metadata": {},
   "outputs": [
    {
     "name": "stdout",
     "output_type": "stream",
     "text": [
      "The mutual information between this feature and target is 0.0\n"
     ]
    }
   ],
   "source": [
    "import numpy as np\n",
    "\n",
    "feature = [1,1,2,1]\n",
    "target = [1,1,1,2]\n",
    "\n",
    "# How many unique features? How many unique targets? \n",
    "\n",
    "\n",
    "# Build up a two-dimension table to store the probability of each pair.\n",
    "\n",
    "# Calculate mutual information using the formula.\n",
    "# Discard 0 probability.\n",
    "mutual_info = 0.0\n",
    "\n",
    "print \"The mutual information between this feature and target is\", mutual_info"
   ]
  },
  {
   "cell_type": "markdown",
   "metadata": {},
   "source": [
    "# Question 4\n",
    "## Please use a library function to calculate mutual information directly."
   ]
  },
  {
   "cell_type": "code",
   "execution_count": null,
   "metadata": {},
   "outputs": [],
   "source": [
    "from sklearn import metrics\n",
    "\n",
    "# Example:\n",
    "feature=np.array([30,24,28,24,20,10,20,10])\n",
    "target=[1,1,1,1,-1,-1,-1,-1]\n",
    "print metrics.mutual_info_score(feature, target) "
   ]
  }
 ],
 "metadata": {
  "kernelspec": {
   "display_name": "Python 2",
   "language": "python",
   "name": "python2"
  },
  "language_info": {
   "codemirror_mode": {
    "name": "ipython",
    "version": 2
   },
   "file_extension": ".py",
   "mimetype": "text/x-python",
   "name": "python",
   "nbconvert_exporter": "python",
   "pygments_lexer": "ipython2",
   "version": "2.7.13"
  }
 },
 "nbformat": 4,
 "nbformat_minor": 2
}
