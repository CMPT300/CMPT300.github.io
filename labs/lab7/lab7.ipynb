{
 "cells": [
  {
   "cell_type": "markdown",
   "metadata": {},
   "source": [
    "# Please select a partner on your own and sign up [here](https://docs.google.com/spreadsheets/d/1XGmHu51l7mYXGrEIbxZ5kZeyxGoqVwEcBKnQQVf3A00/edit?usp=sharing)\n",
    "\n",
    "***\n"
   ]
  },
  {
   "cell_type": "markdown",
   "metadata": {},
   "source": [
    "### Your name:\n",
    "\n",
    "### Your partner's name:\n",
    "\n",
    "#### Each individual student will be required to report individual logs for each assignment, describing:\n",
    "\n",
    "* time spent driving, observing, and working alone.\n",
    "\n",
    "Your answer:\n",
    "\n",
    "* confidence in solution.\n",
    "\n",
    "Your answer:\n",
    "\n",
    "* satisfaction with the experience.\n",
    "\n",
    "Your answer:\n",
    "\n",
    "#### Any comments or suggestions for this lab?\n",
    "\n",
    "Your answer:"
   ]
  },
  {
   "cell_type": "code",
   "execution_count": 1,
   "metadata": {
    "collapsed": true
   },
   "outputs": [],
   "source": [
    "# Load packages\n",
    "import pandas as pd\n",
    "import numpy as np\n",
    "import math"
   ]
  },
  {
   "cell_type": "code",
   "execution_count": 2,
   "metadata": {},
   "outputs": [
    {
     "data": {
      "text/html": [
       "<div>\n",
       "<style>\n",
       "    .dataframe thead tr:only-child th {\n",
       "        text-align: right;\n",
       "    }\n",
       "\n",
       "    .dataframe thead th {\n",
       "        text-align: left;\n",
       "    }\n",
       "\n",
       "    .dataframe tbody tr th {\n",
       "        vertical-align: top;\n",
       "    }\n",
       "</style>\n",
       "<table border=\"1\" class=\"dataframe\">\n",
       "  <thead>\n",
       "    <tr style=\"text-align: right;\">\n",
       "      <th></th>\n",
       "      <th>sepal length</th>\n",
       "      <th>sepal width</th>\n",
       "      <th>petal length</th>\n",
       "      <th>petal width</th>\n",
       "      <th>class</th>\n",
       "    </tr>\n",
       "  </thead>\n",
       "  <tbody>\n",
       "    <tr>\n",
       "      <th>0</th>\n",
       "      <td>5.1</td>\n",
       "      <td>3.5</td>\n",
       "      <td>1.4</td>\n",
       "      <td>0.2</td>\n",
       "      <td>Iris-setosa</td>\n",
       "    </tr>\n",
       "    <tr>\n",
       "      <th>1</th>\n",
       "      <td>4.9</td>\n",
       "      <td>3.0</td>\n",
       "      <td>1.4</td>\n",
       "      <td>0.2</td>\n",
       "      <td>Iris-setosa</td>\n",
       "    </tr>\n",
       "    <tr>\n",
       "      <th>2</th>\n",
       "      <td>4.7</td>\n",
       "      <td>3.2</td>\n",
       "      <td>1.3</td>\n",
       "      <td>0.2</td>\n",
       "      <td>Iris-setosa</td>\n",
       "    </tr>\n",
       "    <tr>\n",
       "      <th>3</th>\n",
       "      <td>4.6</td>\n",
       "      <td>3.1</td>\n",
       "      <td>1.5</td>\n",
       "      <td>0.2</td>\n",
       "      <td>Iris-setosa</td>\n",
       "    </tr>\n",
       "    <tr>\n",
       "      <th>4</th>\n",
       "      <td>5.0</td>\n",
       "      <td>3.6</td>\n",
       "      <td>1.4</td>\n",
       "      <td>0.2</td>\n",
       "      <td>Iris-setosa</td>\n",
       "    </tr>\n",
       "  </tbody>\n",
       "</table>\n",
       "</div>"
      ],
      "text/plain": [
       "   sepal length  sepal width  petal length  petal width        class\n",
       "0           5.1          3.5           1.4          0.2  Iris-setosa\n",
       "1           4.9          3.0           1.4          0.2  Iris-setosa\n",
       "2           4.7          3.2           1.3          0.2  Iris-setosa\n",
       "3           4.6          3.1           1.5          0.2  Iris-setosa\n",
       "4           5.0          3.6           1.4          0.2  Iris-setosa"
      ]
     },
     "execution_count": 2,
     "metadata": {},
     "output_type": "execute_result"
    }
   ],
   "source": [
    "# Read the data\n",
    "df = pd.read_csv(r'https://archive.ics.uci.edu/ml/machine-learning-databases/iris/iris.data',header=None,\n",
    "                 names=['sepal length','sepal width','petal length','petal width','class'])\n",
    "\n",
    "data = df.iloc[:,:-1].as_matrix()\n",
    "target = df.iloc[:,-1].as_matrix()\n",
    "name = df.columns.values\n",
    "\n",
    "df.head()"
   ]
  },
  {
   "cell_type": "markdown",
   "metadata": {},
   "source": [
    "# Question 1: \n",
    "# Build up a fully grown binary decision tree based on Iris dataset.\n",
    "## The final output should be like this:\n",
    "Build decision tree using gini index:\n",
    "\n",
    "'root: petal length <= 1.9'\n",
    "\n",
    "\t'right: petal width <= 1.7'\n",
    "\t\t'left: petal length <= 4.9'\n",
    "\t\t\t'left: petal width <= 1.6'\n",
    "\t\t\t'right: petal width <= 1.5'\n",
    "\t\t\t\t'right: sepal length <= 6.95'\n",
    "\t\t'right: petal length <= 4.8'\n",
    "\t\t\t'left: sepal length <= 5.95'\n",
    "\n",
    "Build decision tree using entropy:\n",
    "\n",
    "'root: petal length <= 1.9'\n",
    "\n",
    "\t'right: petal width <= 1.7'\n",
    "\t\t'left: petal length <= 4.9'\n",
    "\t\t\t'left: petal width <= 1.6'\n",
    "\t\t\t'right: petal width <= 1.5'\n",
    "\t\t\t\t'right: sepal length <= 6.95'\n",
    "\t\t'right: petal length <= 4.8'\n",
    "\t\t\t'left: sepal length <= 5.95'"
   ]
  },
  {
   "cell_type": "code",
   "execution_count": 3,
   "metadata": {
    "collapsed": true
   },
   "outputs": [],
   "source": [
    "# Node of decision tree.\n",
    "class Node(object):\n",
    "    def __init__(self, position=\"\", feature=\"\", split=0, data=[], target=[], left=[], right=[]):\n",
    "        self.position=position # root, left, or right\n",
    "        self.feature=feature # Name of the best feature. Use this feature to split current node.\n",
    "        self.split=split # Best split point of the best feature. \n",
    "        self.data=data # Data of features.\n",
    "        self.target=target # Last column. \n",
    "        self.left = left # Left node.\n",
    "        self.right = right # Right node.\n",
    "\n",
    "    def __str__(self, level=0):\n",
    "        ret = \"\\t\"*level+repr(self.position+\": \"+self.feature+\" <= \"+str(self.split))+\"\\n\"\n",
    "        if self.left: ret += self.left.__str__(level+1)\n",
    "        if self.right: ret += self.right.__str__(level+1)\n",
    "        return ret\n",
    "\n",
    "    def __repr__(self):\n",
    "        return '<tree node representation>'"
   ]
  },
  {
   "cell_type": "code",
   "execution_count": null,
   "metadata": {
    "collapsed": true
   },
   "outputs": [],
   "source": [
    "# Decision tree.\n",
    "class DecisionTree(object):\n",
    "    \n",
    "    def __init__(self, data, target, method):\n",
    "        self.tree=Node(position=\"root\",data=data, target=target)\n",
    "        self.method=method\n",
    "    \n",
    "    # Define functions to choose best split.\n",
    "    # Copy, paste, and modify the codes from lab6.\n",
    "\n",
    "    # step 1: How to calculate impurity of one node? Please use these two methods: gini and entropy.\n",
    "    def impurity_node(self,node, method):\n",
    "        # node: a list of classes of all instances at current node. For example, node = [yes, yes, no, no, yes]\n",
    "        pass\n",
    "    \n",
    "\n",
    "    # step 2: How to combine Gini index of two children?\n",
    "    def impurity_children(self, leftnode, rightnode, method):\n",
    "        pass\n",
    "\n",
    "    # step 3: How to calculate value of Gain?\n",
    "    def gain(self, parent, leftnode, rightnode, method):\n",
    "        pass\n",
    "\n",
    "    # step 4: Given data and target, return the index of best feature and the best split point of this feature.\n",
    "    # For example, return 2 and 1.8 if the best feature is petal length and best split point of petal length is 1.8.\n",
    "    def bestsplit(self, data, target, method):\n",
    "        \n",
    "        return index, split\n",
    "    \n",
    "    # Recursively build the decision tree.\n",
    "    def nodesplit(self, node, method):\n",
    "        data = node.data\n",
    "        target = node.target\n",
    "\n",
    "        # Call bestsplit() to calculate best feature and best split point.\n",
    "        \n",
    "\n",
    "        # Update node.\n",
    "        \n",
    "\n",
    "        # Split data based on best feature and best split point.\n",
    "        \n",
    "\n",
    "        # Recursively call nodesplit() if child node (1) is not empty  and (2) has more than one classes.\n",
    "        \n",
    "            \n",
    "    def build(self):\n",
    "        self.nodesplit(self.tree, self.method)\n",
    "        print self.tree\n",
    "    \n",
    "\n",
    "print \"Build decision tree using gini index:\\n\"\n",
    "tree = DecisionTree(data=data, target=target, method=\"gini\")\n",
    "tree.build()\n",
    "\n",
    "print \"Build decision tree using entropy:\\n\"\n",
    "tree = DecisionTree(data=data, target=target, method=\"entropy\")\n",
    "tree.build()"
   ]
  },
  {
   "cell_type": "markdown",
   "metadata": {},
   "source": [
    "# Question 2:\n",
    "# 1. Call a function from sklearn to build up the tree.\n",
    "# 2. Adjust the default values of parameters of  of function DecisionTreeClassifier(). \n",
    "# 3. Draw this tree using package graphviz.\n",
    "\n",
    "## !! Please install graphviz at first. For instance, you can use this command to install this package: pip install graphviz\n",
    "\n",
    "## Please refer this [page](http://scikit-learn.org/stable/modules/generated/sklearn.tree.DecisionTreeClassifier.html#sklearn.tree.DecisionTreeClassifier) to learn the meanings of parameters of function DecisionTreeClassifier().\n"
   ]
  },
  {
   "cell_type": "code",
   "execution_count": 6,
   "metadata": {
    "collapsed": true
   },
   "outputs": [],
   "source": [
    "from sklearn.datasets import load_iris\n",
    "from sklearn import tree\n",
    "iris = load_iris()\n",
    "# You only need to replace ??? by some values.\n",
    "clf = tree.DecisionTreeClassifier(criterion= ???, min_samples_split=???, \n",
    "                                  min_samples_leaf=???, max_leaf_nodes=???, min_impurity_split=???)\n",
    "clf = clf.fit(data, target)"
   ]
  },
  {
   "cell_type": "code",
   "execution_count": null,
   "metadata": {
    "collapsed": true
   },
   "outputs": [],
   "source": [
    "import graphviz \n",
    "dot_data = tree.export_graphviz(clf, out_file=None) \n",
    "graph = graphviz.Source(dot_data) \n",
    "graph.render(\"iris\") \n",
    "\n",
    "dot_data = tree.export_graphviz(clf, out_file=None, \n",
    "                         feature_names=iris.feature_names,  \n",
    "                         class_names=iris.target_names,  \n",
    "                         filled=True, rounded=True,  \n",
    "                         special_characters=True)  \n",
    "graph = graphviz.Source(dot_data)  \n",
    "graph "
   ]
  },
  {
   "cell_type": "markdown",
   "metadata": {
    "collapsed": true
   },
   "source": [
    "# Question 3:\n",
    "# Build decision tree using [WEKA](https://www.cs.waikato.ac.nz/ml/weka/index.html)\n",
    "\n",
    "## Steps:\n",
    "1. Download and install WEKA.\n",
    "2. Click \"Explorer\".\n",
    "3. Click \"Open file ...\". Choose file \"iris.arff\" which can be downloaded from course page.\n",
    "4. Click table \"Classify\". \n",
    "    1. In \"Classifier\" panel, choose trees->J48\n",
    "    2. In \"Test options\" panel, choose \"Use training set\"\n",
    "    3. Click \"start\"\n",
    "5. View results in window \"Classifier output\"\n"
   ]
  },
  {
   "cell_type": "markdown",
   "metadata": {},
   "source": [
    "# Copy and paste results from WEKA here:\n",
    "<br>\n",
    "<br>\n",
    "<br>\n",
    "<br>\n",
    "<br>\n",
    "<br>\n",
    "<br>\n",
    "<br>\n",
    "<br>\n",
    "<br>\n",
    "<br>\n",
    "<br>\n",
    "<br>\n"
   ]
  },
  {
   "cell_type": "markdown",
   "metadata": {},
   "source": [
    "# Question 4:\n",
    "# What are the differences of trees using these three methods (your code, sklearn, and WEKA)?\n",
    "# Can you explain why these tree trees are so different?"
   ]
  },
  {
   "cell_type": "markdown",
   "metadata": {},
   "source": [
    "# Your answer goes here:\n",
    "<br>\n",
    "<br>\n",
    "<br>\n",
    "<br>\n",
    "<br>\n",
    "<br>\n",
    "<br>"
   ]
  }
 ],
 "metadata": {
  "kernelspec": {
   "display_name": "Python 2",
   "language": "python",
   "name": "python2"
  },
  "language_info": {
   "codemirror_mode": {
    "name": "ipython",
    "version": 2
   },
   "file_extension": ".py",
   "mimetype": "text/x-python",
   "name": "python",
   "nbconvert_exporter": "python",
   "pygments_lexer": "ipython2",
   "version": "2.7.13"
  }
 },
 "nbformat": 4,
 "nbformat_minor": 2
}
