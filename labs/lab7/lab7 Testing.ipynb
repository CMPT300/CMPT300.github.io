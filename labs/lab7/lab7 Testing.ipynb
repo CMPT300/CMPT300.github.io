{
 "cells": [
  {
   "cell_type": "markdown",
   "metadata": {},
   "source": [
    "# I modify a little bit of Node class in order to show the target of the leaf in the output."
   ]
  },
  {
   "cell_type": "code",
   "execution_count": 34,
   "metadata": {
    "collapsed": true
   },
   "outputs": [],
   "source": [
    "# Decision tree.\n",
    "class Node(object):\n",
    "    def __init__(self, position=\"\", feature=\"\", split=0, data=[], target=[], left=[], right=[]):\n",
    "        self.position=position # root, left, or right\n",
    "        self.feature=feature # Name of the best feature. Use this feature to split current node.\n",
    "        self.split=split # Best split point of the best feature. \n",
    "        self.data=data # Data of features.\n",
    "        self.target=target # Last column. \n",
    "        self.left = left # Left node.\n",
    "        self.right = right # Right node.\n",
    "\n",
    "    def __str__(self, level=0):\n",
    "        ret = \"\"\n",
    "        if len(set(self.target))>1:\n",
    "            ret = \"\\t\"*level+repr(self.position+\": \"+self.feature+\" <= \"+str(self.split))+\"\\n\"\n",
    "        else:\n",
    "            ret = \"\\t\"*level+repr(self.position+\": \"+self.target[0])+\"\\n\"\n",
    "        \n",
    "        if self.left: ret += self.left.__str__(level+1)\n",
    "        if self.right: ret += self.right.__str__(level+1)\n",
    "        return ret\n",
    "\n",
    "    def __repr__(self):\n",
    "        return '<tree node representation>'"
   ]
  },
  {
   "cell_type": "markdown",
   "metadata": {},
   "source": [
    "# Testing Code.\n",
    "# The prediction accuracy should be 100%."
   ]
  },
  {
   "cell_type": "code",
   "execution_count": 54,
   "metadata": {},
   "outputs": [
    {
     "name": "stdout",
     "output_type": "stream",
     "text": [
      "Build decision tree using gini index:\n",
      "\n",
      "'root: petal length <= 1.9'\n",
      "\t'left: Iris-setosa'\n",
      "\t'right: petal width <= 1.7'\n",
      "\t\t'left: petal length <= 4.9'\n",
      "\t\t\t'left: petal width <= 1.6'\n",
      "\t\t\t\t'left: Iris-versicolor'\n",
      "\t\t\t\t'right: Iris-virginica'\n",
      "\t\t\t'right: petal width <= 1.5'\n",
      "\t\t\t\t'left: Iris-virginica'\n",
      "\t\t\t\t'right: sepal length <= 6.95'\n",
      "\t\t\t\t\t'left: Iris-versicolor'\n",
      "\t\t\t\t\t'right: Iris-virginica'\n",
      "\t\t'right: petal length <= 4.8'\n",
      "\t\t\t'left: sepal length <= 5.95'\n",
      "\t\t\t\t'left: Iris-versicolor'\n",
      "\t\t\t\t'right: Iris-virginica'\n",
      "\t\t\t'right: Iris-virginica'\n",
      "\n",
      "Prediction accuracy is 1.0\n",
      "\n",
      "Build decision tree using entropy:\n",
      "\n",
      "'root: petal length <= 1.9'\n",
      "\t'left: Iris-setosa'\n",
      "\t'right: petal width <= 1.7'\n",
      "\t\t'left: petal length <= 4.9'\n",
      "\t\t\t'left: petal width <= 1.6'\n",
      "\t\t\t\t'left: Iris-versicolor'\n",
      "\t\t\t\t'right: Iris-virginica'\n",
      "\t\t\t'right: petal width <= 1.5'\n",
      "\t\t\t\t'left: Iris-virginica'\n",
      "\t\t\t\t'right: sepal length <= 6.95'\n",
      "\t\t\t\t\t'left: Iris-versicolor'\n",
      "\t\t\t\t\t'right: Iris-virginica'\n",
      "\t\t'right: petal length <= 4.8'\n",
      "\t\t\t'left: sepal length <= 5.95'\n",
      "\t\t\t\t'left: Iris-versicolor'\n",
      "\t\t\t\t'right: Iris-virginica'\n",
      "\t\t\t'right: Iris-virginica'\n",
      "\n",
      "Prediction accuracy is 1.0\n",
      "\n"
     ]
    }
   ],
   "source": [
    "\n",
    "class DecisionTree(object):\n",
    "        \n",
    "    def test(self, data, target):\n",
    "        n = 0\n",
    "        for sample, sampleclass in zip(data, target):\n",
    "            tree = self.tree\n",
    "            while len(set(tree.target)) > 1:\n",
    "                index = list(name).index(tree.feature)\n",
    "                if sample[index] <= tree.split:\n",
    "                    tree = tree.left\n",
    "                else:\n",
    "                    tree = tree.right\n",
    "            n += (tree.target[0] == sampleclass)\n",
    "        print \"Prediction accuracy is\", float(n)/len(data)\n",
    "        print\n",
    "         \n",
    "    \n",
    "print \"Build decision tree using gini index:\\n\"\n",
    "tree = DecisionTree(data=data, target=target, method=\"gini\")\n",
    "tree.build()\n",
    "tree.test(data, target)\n",
    "\n",
    "print \"Build decision tree using entropy:\\n\"\n",
    "tree = DecisionTree(data=data, target=target, method=\"entropy\")\n",
    "tree.build()\n",
    "tree.test(data, target)\n"
   ]
  }
 ],
 "metadata": {
  "kernelspec": {
   "display_name": "Python 2",
   "language": "python",
   "name": "python2"
  },
  "language_info": {
   "codemirror_mode": {
    "name": "ipython",
    "version": 2
   },
   "file_extension": ".py",
   "mimetype": "text/x-python",
   "name": "python",
   "nbconvert_exporter": "python",
   "pygments_lexer": "ipython2",
   "version": "2.7.13"
  }
 },
 "nbformat": 4,
 "nbformat_minor": 2
}
