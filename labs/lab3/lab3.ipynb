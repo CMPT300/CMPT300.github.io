{
 "cells": [
  {
   "cell_type": "markdown",
   "metadata": {},
   "source": [
    "# Please select a partner on your own and sign up [here](https://docs.google.com/spreadsheets/d/1XGmHu51l7mYXGrEIbxZ5kZeyxGoqVwEcBKnQQVf3A00/edit?usp=sharing)\n",
    "\n",
    "***\n"
   ]
  },
  {
   "cell_type": "markdown",
   "metadata": {},
   "source": [
    "### Your name:\n",
    "\n",
    "### Your partner's name:\n",
    "\n",
    "#### Each individual student will be required to report individual logs for each assignment, describing:\n",
    "\n",
    "* time spent driving, observing, and working alone.\n",
    "\n",
    "Your answer:\n",
    "\n",
    "* confidence in solution.\n",
    "\n",
    "Your answer:\n",
    "\n",
    "* satisfaction with the experience.\n",
    "\n",
    "Your answer:\n",
    "\n",
    "#### Any comments or suggestions for this lab?\n",
    "\n",
    "Your answer:"
   ]
  },
  {
   "cell_type": "markdown",
   "metadata": {},
   "source": [
    "***\n"
   ]
  },
  {
   "cell_type": "markdown",
   "metadata": {},
   "source": [
    "# Question1\n",
    "## Please use python to calculate three different types of distances between two vectors.\n",
    "### For question 1, you should only use functions from math library, such as sqrt, exp, etc. https://docs.python.org/2/library/math.html"
   ]
  },
  {
   "cell_type": "code",
   "execution_count": 6,
   "metadata": {},
   "outputs": [
    {
     "name": "stdout",
     "output_type": "stream",
     "text": [
      "L1 distance between p1 and p2 is None\n",
      "L2 distance between p1 and p2 is None\n",
      "Linfinity distance between p1 and p2 is None\n"
     ]
    }
   ],
   "source": [
    "def distance(p1,p2,dist_type):\n",
    "    '''\n",
    "    p1: first point\n",
    "    p2: second point\n",
    "    dist_type: type of distance\n",
    "    '''\n",
    "    pass\n",
    "    \n",
    "    \n",
    "    \n",
    "p1 = [0,1,2]\n",
    "p2 = [2,1,3]\n",
    "print \"L1 distance between p1 and p2 is\", distance(p1,p2,'L1')\n",
    "print \"L2 distance between p1 and p2 is\", distance(p1,p2,'L2')\n",
    "print \"Linfinity distance between p1 and p2 is\", distance(p1,p2,'Linfinity')"
   ]
  },
  {
   "cell_type": "markdown",
   "metadata": {},
   "source": [
    "# Question 2\n",
    "## Please use functions imported from a library/package to calculate the distance between two vectors. \n",
    "Reference:\n",
    "\n",
    "https://docs.scipy.org/doc/numpy/reference/generated/numpy.linalg.norm.html\n",
    "\n",
    "https://stackoverflow.com/questions/32141856/is-norm-equivalent-to-euclidean-distance"
   ]
  },
  {
   "cell_type": "code",
   "execution_count": 4,
   "metadata": {},
   "outputs": [],
   "source": [
    "import numpy as np\n",
    "from numpy import linalg as LA\n",
    "\n",
    "# Please convert list to numpy array format using np.array() \n",
    "\n",
    "# Distance between p1 and p2 is equal to norm of p1-p2\n",
    "# Please use LA.norm(p1-p2, ord) to calculate three different distance\n",
    "# ord of L1 is 1. ord of L2 is 2. ord of Linfinity is inf.\n",
    "\n",
    "# Your code goes here:\n",
    "\n",
    "\n",
    "\n",
    "\n",
    "\n"
   ]
  },
  {
   "cell_type": "markdown",
   "metadata": {},
   "source": [
    "# Question 3\n",
    "## Please use python to calculate correlation coefficient between two vectors.\n",
    "### For question 3, you should only use functions from math library, such as sqrt, exp, etc. https://docs.python.org/2/library/math.html"
   ]
  },
  {
   "cell_type": "code",
   "execution_count": 10,
   "metadata": {},
   "outputs": [
    {
     "name": "stdout",
     "output_type": "stream",
     "text": [
      "Correlation coefficient between p1 and p2 is None\n"
     ]
    }
   ],
   "source": [
    "def mean(p):\n",
    "    pass\n",
    "\n",
    "def std(p):\n",
    "    pass\n",
    "\n",
    "def covariance(p1,p2):\n",
    "    pass\n",
    "\n",
    "def corr(p1,p2):\n",
    "    '''\n",
    "    p1: first point\n",
    "    p2: second point\n",
    "    '''\n",
    "    pass\n",
    "    \n",
    "    \n",
    "    \n",
    "p1 = [0,1,2]\n",
    "p2 = [2,1,3]\n",
    "print \"Correlation coefficient between p1 and p2 is\", corr(p1,p2)"
   ]
  },
  {
   "cell_type": "markdown",
   "metadata": {},
   "source": [
    "# Question 4\n",
    "## Please use functions imported from a library/package to calculate correlation coefficient between two vectors. \n",
    "reference:\n",
    "\n",
    "https://docs.scipy.org/doc/numpy/reference/generated/numpy.corrcoef.html\n",
    "\n",
    "https://docs.scipy.org/doc/numpy/reference/generated/numpy.cov.html"
   ]
  },
  {
   "cell_type": "code",
   "execution_count": 6,
   "metadata": {
    "collapsed": true
   },
   "outputs": [],
   "source": [
    "import numpy as np\n",
    "\n",
    "# Please use np.corrcoef(p1,p2)\n",
    "# The result is a 2 by 2 symmetric matrix. \n",
    "# The value which is not on the diagonal is the correlation coefficient between p1 and p2.\n",
    "# Please use matrix[x,y] to access the element at row x and column y \n",
    "\n",
    "# Your code goes here:\n",
    "\n",
    "\n"
   ]
  },
  {
   "cell_type": "code",
   "execution_count": null,
   "metadata": {
    "collapsed": true
   },
   "outputs": [],
   "source": []
  }
 ],
 "metadata": {
  "kernelspec": {
   "display_name": "Python 2",
   "language": "python",
   "name": "python2"
  },
  "language_info": {
   "codemirror_mode": {
    "name": "ipython",
    "version": 2
   },
   "file_extension": ".py",
   "mimetype": "text/x-python",
   "name": "python",
   "nbconvert_exporter": "python",
   "pygments_lexer": "ipython2",
   "version": "2.7.13"
  }
 },
 "nbformat": 4,
 "nbformat_minor": 2
}
