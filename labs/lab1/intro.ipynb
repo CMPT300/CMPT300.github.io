{
 "cells": [
  {
   "cell_type": "markdown",
   "metadata": {},
   "source": [
    "Each individual student will be required to report individual logs for each assignment, describing:\n",
    "\n",
    "* time spent driving, observing, and working alone\n",
    "* confidence in solution\n",
    "* satisfaction with the experience.\n",
    "\n",
    "Each student will also be required to rate their partner on a scale of 1-20 for each of the following questions:\n",
    "* Did your partner read preparatory materials before coming to the scheduled lab?\n",
    "* Did your partner do his or her fair share of the work?\n",
    "* Did your partner cooperatively follow the pair programming model (rotating roles of driver and navigator)?\n",
    "* Did your partner make contributions to the completion of the lab assignment?\n",
    "* Did your partner cooperate?\n",
    "\n",
    "A good partner would be rated 20 points for all five categories, for a total score of 100 points."
   ]
  },
  {
   "cell_type": "markdown",
   "metadata": {},
   "source": [
    "##  List\n",
    "Take a list, say for example this one: a = [1, 1, 2, 3, 5, 8, 13, 21, 34, 55, 89]. Write a program that prints out all the elements of the list that are less than 5.\n",
    "\n",
    "Hint: Instead of printing the elements one by one, make a new list that has all the elements less than 5 from this list in it and print out this new list.\n",
    "\n",
    "Extra: Write this in one line of Python. [(list comprehensions)](https://docs.python.org/2/tutorial/datastructures.html#list-comprehensions)"
   ]
  },
  {
   "cell_type": "code",
   "execution_count": 26,
   "metadata": {
    "collapsed": false
   },
   "outputs": [
    {
     "data": {
      "text/plain": [
       "'\\nWrite your codes here:\\n'"
      ]
     },
     "execution_count": 26,
     "metadata": {},
     "output_type": "execute_result"
    }
   ],
   "source": [
    "a = [1, 1, 2, 3, 5, 8, 13, 21, 34, 55, 89]\n",
    "\"\"\"\n",
    "Write your codes here:\n",
    "\"\"\"\n"
   ]
  },
  {
   "cell_type": "markdown",
   "metadata": {},
   "source": [
    "##  List\n",
    "Take a list, say for example this one: a = [21, 34, 55, 89]. Write a one line code to reverse the order of this list as [89, 55,34,21]  \n",
    "\n",
    "Do not use reverse!\n",
    "\n",
    "Hint: end of a list."
   ]
  },
  {
   "cell_type": "code",
   "execution_count": 28,
   "metadata": {
    "collapsed": false
   },
   "outputs": [
    {
     "data": {
      "text/plain": [
       "'\\nWrite your codes here:\\n'"
      ]
     },
     "execution_count": 28,
     "metadata": {},
     "output_type": "execute_result"
    }
   ],
   "source": [
    "a = [21, 34, 55, 89]\n",
    "\"\"\"\n",
    "Write your codes here:\n",
    "\"\"\"\n"
   ]
  },
  {
   "cell_type": "markdown",
   "metadata": {},
   "source": [
    "## String\n",
    "Reverse words order.\n",
    "\n",
    "Suppose the input string s=\"Welcome to Salt Lake City\". Write a one line code to reverse the words order as \"City Lake Salt to Welcome\".\n",
    "\n",
    "Do not use reverse!\n",
    "\n",
    "Hint: use join and split."
   ]
  },
  {
   "cell_type": "code",
   "execution_count": null,
   "metadata": {
    "collapsed": true
   },
   "outputs": [],
   "source": [
    "s=\"Welcome to Salt Lake City\"\n",
    "\"\"\"\n",
    "Write your codes here:\n",
    "\"\"\"\n"
   ]
  },
  {
   "cell_type": "markdown",
   "metadata": {},
   "source": [
    "## Set\n",
    "Remove duplicates of a list\n",
    "\n",
    "Given a list a = [1,1,2,2,3,5,6,7,5]. Write a one line code to remove all dulicates of a. The output should be [1,2,3,5,6,7]\n",
    "\n",
    "Hint: use set() and list()"
   ]
  },
  {
   "cell_type": "code",
   "execution_count": 30,
   "metadata": {
    "collapsed": false
   },
   "outputs": [
    {
     "data": {
      "text/plain": [
       "'\\nWrite your codes here:\\n'"
      ]
     },
     "execution_count": 30,
     "metadata": {},
     "output_type": "execute_result"
    }
   ],
   "source": [
    "a = [1,1,2,2,3,5,6,7,5]\n",
    "\"\"\"\n",
    "Write your codes here:\n",
    "\"\"\"\n"
   ]
  },
  {
   "cell_type": "code",
   "execution_count": null,
   "metadata": {
    "collapsed": true
   },
   "outputs": [],
   "source": []
  },
  {
   "cell_type": "markdown",
   "metadata": {},
   "source": [
    "# Practice. Enjoy the Python!\n",
    "\n",
    "Rotate an array of n elements to the right by k steps. Assume the array is not empty.\n",
    "\n",
    "For example, with n = 7 and k = 3, the array a = [1,2,3,4,5,6,7] is rotated to [5,6,7,1,2,3,4].\n",
    "\n",
    "Try to write your python code less than five lines!"
   ]
  },
  {
   "cell_type": "code",
   "execution_count": 7,
   "metadata": {
    "collapsed": true
   },
   "outputs": [],
   "source": [
    "\n",
    "def rotate(a, k):\n",
    "    \"\"\"\n",
    "    Write your codes here.\n",
    "    Test your code by running next cell.\n",
    "    \"\"\"\n",
    "\n",
    "    \n"
   ]
  },
  {
   "cell_type": "code",
   "execution_count": 8,
   "metadata": {
    "collapsed": false
   },
   "outputs": [
    {
     "name": "stderr",
     "output_type": "stream",
     "text": [
      ".\n",
      "----------------------------------------------------------------------\n",
      "Ran 1 test in 0.002s\n",
      "\n",
      "OK\n"
     ]
    }
   ],
   "source": [
    "'''\n",
    "testing \n",
    "'''\n",
    "import unittest\n",
    "\n",
    "class Test(unittest.TestCase):\n",
    "\n",
    "\n",
    "    def testrotate(self):\n",
    "        # test 1\n",
    "        sequence = [1,2,3,4]\n",
    "        k=3\n",
    "        result=[2,3,4,1]\n",
    "        self.assertEquals(result,rotate(sequence,k))\n",
    "        \n",
    "        # test 2\n",
    "        sequence = [1,2,3,4]\n",
    "        k=4\n",
    "        result=[1,2,3,4]\n",
    "        self.assertEquals(result,rotate(sequence,k))\n",
    "        \n",
    "        # test 3\n",
    "        sequence = [1,2,3,4]\n",
    "        k=0\n",
    "        result=[1,2,3,4]\n",
    "        self.assertEquals(result,rotate(sequence,k))\n",
    "        \n",
    "        # test 4\n",
    "        sequence = [1,2,3,4]\n",
    "        k=42\n",
    "        result=[3,4,1,2]\n",
    "        self.assertEquals(result,rotate(sequence,k))\n",
    "        \n",
    "        # test 5\n",
    "        sequence = [1,2,3,4,5,6,7,8,9,10]\n",
    "        k=4201\n",
    "        result=[10, 1, 2, 3, 4, 5, 6, 7, 8, 9]\n",
    "        self.assertEquals(result,rotate(sequence,k))\n",
    "        \n",
    "\n",
    "if __name__ == \"__main__\":\n",
    "    unittest.main(argv=['first-arg-is-ignored'], exit=False)"
   ]
  }
 ],
 "metadata": {
  "anaconda-cloud": {},
  "kernelspec": {
   "display_name": "Python [Root]",
   "language": "python",
   "name": "Python [Root]"
  },
  "language_info": {
   "codemirror_mode": {
    "name": "ipython",
    "version": 2
   },
   "file_extension": ".py",
   "mimetype": "text/x-python",
   "name": "python",
   "nbconvert_exporter": "python",
   "pygments_lexer": "ipython2",
   "version": "2.7.12"
  }
 },
 "nbformat": 4,
 "nbformat_minor": 0
}
