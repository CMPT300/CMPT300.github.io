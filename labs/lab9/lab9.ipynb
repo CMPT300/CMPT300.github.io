{
 "cells": [
  {
   "cell_type": "markdown",
   "metadata": {},
   "source": [
    "# Please select a partner on your own and sign up [here](https://docs.google.com/spreadsheets/d/1XGmHu51l7mYXGrEIbxZ5kZeyxGoqVwEcBKnQQVf3A00/edit?usp=sharing)\n",
    "\n",
    "***\n"
   ]
  },
  {
   "cell_type": "markdown",
   "metadata": {},
   "source": [
    "### Your name:\n",
    "\n",
    "### Your partner's name:\n",
    "\n",
    "#### Each individual student will be required to report individual logs for each assignment, describing:\n",
    "\n",
    "* time spent driving, observing, and working alone.\n",
    "\n",
    "Your answer:\n",
    "\n",
    "* confidence in solution.\n",
    "\n",
    "Your answer:\n",
    "\n",
    "* satisfaction with the experience.\n",
    "\n",
    "Your answer:\n",
    "\n",
    "#### Any comments or suggestions for this lab?\n",
    "\n",
    "Your answer:"
   ]
  },
  {
   "cell_type": "markdown",
   "metadata": {},
   "source": [
    "## Question 1\n",
    "## Find all frequent itemsets from data using Apriori Algorithm.\n",
    "### Use F_k-1 * F_k-1 to generate itemset in next level in length of k.\n",
    "### Please slide 3, 4 for definitions and slide 22, 25 for algorithm."
   ]
  },
  {
   "cell_type": "code",
   "execution_count": 1,
   "metadata": {
    "collapsed": true
   },
   "outputs": [],
   "source": [
    "import numpy as np\n",
    "import pandas as pd\n",
    "import math\n",
    "import random"
   ]
  },
  {
   "cell_type": "code",
   "execution_count": 1,
   "metadata": {},
   "outputs": [
    {
     "name": "stdout",
     "output_type": "stream",
     "text": [
      "Writing lab9.py\n"
     ]
    }
   ],
   "source": [
    "\n",
    "class AssociationRule(object):\n",
    "    \n",
    "    def __init__(self, trans, minsup, k):\n",
    "        self.trans = trans\n",
    "        self.minsup = minsup\n",
    "        self.kitemset = {}  # key k is number-of-elements-per-itemset. value are these k-itemset.\n",
    "        self.k = k\n",
    "        \n",
    "    def count(self, itemset):    \n",
    "        # Return count of one itemset in all transactions\n",
    "        # Your code goes here:\n",
    "        pass\n",
    "        \n",
    "    \n",
    "    \n",
    "    def support(self, itemset):\n",
    "        # Retuen support of one itemset\n",
    "        # Your code goes here:\n",
    "        pass\n",
    "        \n",
    "        \n",
    "    \n",
    "    def generate(self, kitemset):\n",
    "        # Generate candidate of itemset in next level of the tree using F_k-1 * F_k-1 method.\n",
    "        # Merge two frequent itemsets in length of k-1 to get a new candidate itemset in length of k.\n",
    "        # Suppose here we have two itemsets in length of n: Itemseta = [a1, a2, ... , an] and Itemsetb = \n",
    "        #    [b1, b2, ... , bn]. We merge Itemseta and Itemsetb if all first n-1 elements of them are same\n",
    "        #    except the last elements of them are different. Mathematically, a new candidate item\n",
    "        #    Itemset_New = [a1, a2, a3, ..., an, bn] only if a1=b1, a2=b2, ..., a_n-1=b_n-1, but an != bn.\n",
    "        \n",
    "        # Your code goes here:\n",
    "        pass\n",
    "        \n",
    "        \n",
    "        \n",
    "    \n",
    "    def run(self):\n",
    "        # Find all frequent itemsets and store them in the dictionary self.kitemset\n",
    "        # You code goes here:\n",
    "        pass\n",
    "    \n",
    "    \n",
    "    \n",
    "        \n",
    "    def getdata(self):\n",
    "        # Update test data\n",
    "        random.seed(1)\n",
    "        row = 100\n",
    "        trans = []\n",
    "        for i in range(row):\n",
    "            col = random.randint(1,100)\n",
    "            trans.append(list(set([random.randint(1,30) for i in range(col)]))) \n",
    "        self.trans = trans\n",
    "            \n",
    "    def printset(self,k):\n",
    "        print str(k) + \"-itemset contains:\"\n",
    "        for itemset in self.kitemset[k]:\n",
    "            print itemset\n",
    "    \n",
    "if __name__ == \"__main__\":\n",
    "    \n",
    "    minsup = 0.5\n",
    "    \n",
    "    # data set 1 \n",
    "    trans = [[\"Bread\", \"Milk\"], \n",
    "             [\"Bread\", \"Diaper\", \"Beer\", \"Eggs\", \"Milk\"],\n",
    "             [\"Milk\", \"Diaper\", \"Beer\", \"Coke\"],\n",
    "             [\"Bread\", \"Milk\", \"Diaper\", \"Beer\"],\n",
    "             [\"Bread\", \"Milk\", \"Diaper\", \"Coke\"]]\n",
    "    k = 3\n",
    "    model = AssociationRule(trans, minsup, k)\n",
    "    model.run()\n",
    "    model.printset(k)\n",
    "    \n",
    "    # data set 2\n",
    "    k = 5\n",
    "    model = AssociationRule(None, minsup, k)\n",
    "    model.getdata()\n",
    "    model.run()\n",
    "    model.printset(k)\n",
    "    \n",
    "    "
   ]
  }
 ],
 "metadata": {
  "kernelspec": {
   "display_name": "Python 2",
   "language": "python",
   "name": "python2"
  },
  "language_info": {
   "codemirror_mode": {
    "name": "ipython",
    "version": 2
   },
   "file_extension": ".py",
   "mimetype": "text/x-python",
   "name": "python",
   "nbconvert_exporter": "python",
   "pygments_lexer": "ipython2",
   "version": "2.7.13"
  }
 },
 "nbformat": 4,
 "nbformat_minor": 2
}
