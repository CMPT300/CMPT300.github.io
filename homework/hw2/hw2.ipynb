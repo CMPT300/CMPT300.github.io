{
 "cells": [
  {
   "cell_type": "markdown",
   "metadata": {},
   "source": [
    "# Homework 2"
   ]
  },
  {
   "cell_type": "markdown",
   "metadata": {},
   "source": [
    "### Your name:\n",
    "\n",
    "#### Describing:\n",
    "\n",
    "* time spent driving, observing, and working alone.\n",
    "\n",
    "Your answer:\n",
    "\n",
    "* confidence in solution.\n",
    "\n",
    "Your answer:\n",
    "\n",
    "* satisfaction with the experience.\n",
    "\n",
    "Your answer:\n",
    "\n",
    "#### Any comments or suggestions for this lab?\n",
    "\n",
    "Your answer:"
   ]
  },
  {
   "cell_type": "markdown",
   "metadata": {},
   "source": [
    "# Homework Description\n",
    "## Find a best feature of Iris dataset. There are 150 instances, 4 features, and 3 classes in this dataset. \n",
    "## Please use both three algorithms we have covered in class to find the best feature."
   ]
  },
  {
   "cell_type": "code",
   "execution_count": 2,
   "metadata": {
    "collapsed": true
   },
   "outputs": [],
   "source": [
    "# Load packages\n",
    "import pandas as pd\n",
    "import numpy as np\n",
    "# Read the data\n",
    "df = pd.read_csv(r'https://archive.ics.uci.edu/ml/machine-learning-databases/iris/iris.data',header=None,\n",
    "                 names=['sepal length','sepal width','petal length','petal width','class'])\n",
    "# Convert df to a numpy array data\n",
    "data=df.as_matrix()"
   ]
  },
  {
   "cell_type": "code",
   "execution_count": 5,
   "metadata": {
    "collapsed": true
   },
   "outputs": [],
   "source": [
    "# Use integers to represent three classes. For instance, you can use 1 to represent Iris-setosa, 2 to represent \n",
    "# Iris-versicolor, and 3 to represent Iris-virginica. \n",
    "\n",
    "# Replace strings in last column by integers.\n",
    "# Your code goes here:\n",
    "\n",
    "\n",
    "\n",
    "        \n",
    "# Convert types of all data as float.\n",
    "data=np.array(data,dtype='float')"
   ]
  },
  {
   "cell_type": "markdown",
   "metadata": {},
   "source": [
    "# Question1\n",
    "## Find a best feature using S2N."
   ]
  },
  {
   "cell_type": "code",
   "execution_count": null,
   "metadata": {
    "collapsed": true
   },
   "outputs": [],
   "source": [
    "import math\n",
    "import numpy as np\n",
    "\n",
    "# For each feature, you need to calculate S2N between every two classes of this feature. \n",
    "# Then the average of these S2N values is the S2N of this feature. \n",
    "def S2N(feature, target):\n",
    "    # Your code goes here:\n",
    "    \n",
    "    \n",
    "    \n",
    "    \n",
    "print \"Best feature is: \""
   ]
  },
  {
   "cell_type": "markdown",
   "metadata": {},
   "source": [
    "# Question 2\n",
    "## Find a best feature using correlation coefficient"
   ]
  },
  {
   "cell_type": "code",
   "execution_count": null,
   "metadata": {
    "collapsed": true
   },
   "outputs": [],
   "source": [
    "# Please use this library function np.corrcoef()\n",
    "# Your code goes here:\n",
    "\n",
    "\n",
    "\n",
    "\n",
    "print \"Best feature is: \""
   ]
  },
  {
   "cell_type": "markdown",
   "metadata": {},
   "source": [
    "# Question 3\n",
    "## Find a best feature using mutual information"
   ]
  },
  {
   "cell_type": "code",
   "execution_count": null,
   "metadata": {
    "collapsed": true
   },
   "outputs": [],
   "source": [
    "from sklearn import metrics\n",
    "\n",
    "# please use this library function metrics.mutual_info_score()\n",
    "# Your code goes here:\n",
    "\n",
    "\n",
    "\n",
    "\n",
    "print \"Best feature is: \""
   ]
  },
  {
   "cell_type": "code",
   "execution_count": null,
   "metadata": {
    "collapsed": true
   },
   "outputs": [],
   "source": []
  }
 ],
 "metadata": {
  "kernelspec": {
   "display_name": "Python 2",
   "language": "python",
   "name": "python2"
  },
  "language_info": {
   "codemirror_mode": {
    "name": "ipython",
    "version": 2
   },
   "file_extension": ".py",
   "mimetype": "text/x-python",
   "name": "python",
   "nbconvert_exporter": "python",
   "pygments_lexer": "ipython2",
   "version": "2.7.13"
  }
 },
 "nbformat": 4,
 "nbformat_minor": 2
}
