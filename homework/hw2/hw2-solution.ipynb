{
 "cells": [
  {
   "cell_type": "markdown",
   "metadata": {},
   "source": [
    "# Homework 2"
   ]
  },
  {
   "cell_type": "markdown",
   "metadata": {},
   "source": [
    "# Homework Description\n",
    "## Find a best feature of Iris dataset. There are 150 instances, 4 features, and 3 classes in this dataset. \n",
    "## Please use both three algorithms we have covered in class to find the best feature."
   ]
  },
  {
   "cell_type": "code",
   "execution_count": 1,
   "metadata": {
    "collapsed": true
   },
   "outputs": [],
   "source": [
    "# Load packages\n",
    "import pandas as pd\n",
    "import numpy as np\n",
    "# Read the data\n",
    "df = pd.read_csv(r'https://archive.ics.uci.edu/ml/machine-learning-databases/iris/iris.data',header=None,\n",
    "                 names=['sepal length','sepal width','petal length','petal width','class'])\n",
    "# Convert df to a numpy array data\n",
    "data=df.as_matrix()"
   ]
  },
  {
   "cell_type": "code",
   "execution_count": 2,
   "metadata": {
    "collapsed": true
   },
   "outputs": [],
   "source": [
    "# Use intergers to represent three classes. For instance, you can use 1 to represent Iris-setosa, 2 to represent \n",
    "# Iris-versicolor, and 3 to represent Iris-virginica. \n",
    "\n",
    "# Replace strings in last column by integers.\n",
    "# Your code goes here:\n",
    "\n",
    "for i in data:\n",
    "    if i[-1] == 'Iris-setosa':\n",
    "        i[-1] = 0\n",
    "    elif i[-1] == 'Iris-versicolor':\n",
    "        i[-1] = 1\n",
    "    else:\n",
    "        i[-1] = 2\n",
    "        \n",
    "# Convert types of all data as float.\n",
    "data=np.array(data,dtype='float')\n",
    "\n",
    "feature_names = df.columns.values"
   ]
  },
  {
   "cell_type": "markdown",
   "metadata": {},
   "source": [
    "# Question1\n",
    "## Find two best features using S2N."
   ]
  },
  {
   "cell_type": "code",
   "execution_count": 3,
   "metadata": {},
   "outputs": [
    {
     "name": "stdout",
     "output_type": "stream",
     "text": [
      "S2N are:  [1.0900142268141269, 0.63448664834776736, 3.7865259686950945, 3.2649492423824071]\n",
      "Best two features are:  petal length\n"
     ]
    }
   ],
   "source": [
    "import math\n",
    "import numpy as np\n",
    "\n",
    "# For each feature, you need to calculate S2N between every two classes of this feature. \n",
    "# Then the average of these S2N values is the S2N of this feature. \n",
    "def S2N(feature, target):\n",
    "    # Your code goes here:\n",
    "    \n",
    "    nt = list(set(target)) # list of different classes\n",
    "    d={}\n",
    "    for i in range(len(nt)): # key: value ----  class index : part of feature whose class is nt[i]\n",
    "        d[i] = feature[target==nt[i]]\n",
    "   \n",
    "    s=[]\n",
    "    for i in range(len(nt)-1):\n",
    "        for j in range(i+1,len(nt)): # all possible pairs of different classes\n",
    "            s.append(abs(np.mean(d[i])-np.mean(d[j]))/(np.std(d[i])+np.std(d[j])))\n",
    "    return np.mean(s)\n",
    "    \n",
    "result=[]\n",
    "for i in range(np.size(data,1)-1):\n",
    "    result.append(S2N(data[:,i],data[:,-1]))\n",
    "    \n",
    "print \"S2N are: \", result\n",
    "print \"Best features is: \", feature_names[result.index(max(result))]"
   ]
  },
  {
   "cell_type": "markdown",
   "metadata": {},
   "source": [
    "# Question 2\n",
    "## Find two best features using correlation coefficient"
   ]
  },
  {
   "cell_type": "code",
   "execution_count": 4,
   "metadata": {},
   "outputs": [
    {
     "name": "stdout",
     "output_type": "stream",
     "text": [
      "corr are:  [0.78256123181008197, -0.41944620026002738, 0.9490425448523333, 0.95646382380161654]\n",
      "Best two features are:  petal width\n"
     ]
    }
   ],
   "source": [
    "# Please use this library function np.corrcoef()\n",
    "# Your code goes here:\n",
    "\n",
    "result=[]\n",
    "for i in range(4):\n",
    "    result.append(np.corrcoef(data[:,[i,-1]].T)[0,1])\n",
    "\n",
    "print \"corr are: \", result\n",
    "print \"Best features is: \", feature_names[result.index(max(result))]"
   ]
  },
  {
   "cell_type": "markdown",
   "metadata": {},
   "source": [
    "# Question 3\n",
    "## Find two best features using mutual information"
   ]
  },
  {
   "cell_type": "code",
   "execution_count": 5,
   "metadata": {},
   "outputs": [
    {
     "name": "stdout",
     "output_type": "stream",
     "text": [
      "Mutual information are:  [0.60784683944758322, 0.35410807526503824, 1.002510220562348, 0.99528853845000187]\n",
      "Best two features are:  petal length\n"
     ]
    }
   ],
   "source": [
    "from sklearn import metrics\n",
    "# please use this library function metrics.mutual_info_score()\n",
    "# Your code goes here:\n",
    "\n",
    "result=[]\n",
    "for i in range(4):\n",
    "    result.append(metrics.mutual_info_score(data[:,i],data[:,-1]))\n",
    "\n",
    "print \"Mutual information are: \", result\n",
    "print \"Best features is: \", feature_names[result.index(max(result))]"
   ]
  },
  {
   "cell_type": "code",
   "execution_count": null,
   "metadata": {
    "collapsed": true
   },
   "outputs": [],
   "source": []
  }
 ],
 "metadata": {
  "kernelspec": {
   "display_name": "Python 2",
   "language": "python",
   "name": "python2"
  },
  "language_info": {
   "codemirror_mode": {
    "name": "ipython",
    "version": 2
   },
   "file_extension": ".py",
   "mimetype": "text/x-python",
   "name": "python",
   "nbconvert_exporter": "python",
   "pygments_lexer": "ipython2",
   "version": "2.7.13"
  }
 },
 "nbformat": 4,
 "nbformat_minor": 2
}
